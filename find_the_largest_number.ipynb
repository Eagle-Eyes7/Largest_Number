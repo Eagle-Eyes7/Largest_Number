{
 "cells": [
  {
   "cell_type": "markdown",
   "id": "546ca42b-97d4-4bb4-8f56-caa8a3fd80d6",
   "metadata": {},
   "source": [
    "# Screening Task Submission Form: Batch 7\n",
    "\n",
    "## Name: Muhammad Waqar Amin"
   ]
  },
  {
   "cell_type": "markdown",
   "id": "e93796d2-eff5-4a85-9e5c-f0f84bb34437",
   "metadata": {},
   "source": [
    "# Find the largest number"
   ]
  },
  {
   "cell_type": "code",
   "execution_count": 76,
   "id": "8fcb118b-0d80-4795-8d4d-894a6606c548",
   "metadata": {},
   "outputs": [],
   "source": [
    "import pennylane as qml"
   ]
  },
  {
   "cell_type": "code",
   "execution_count": 77,
   "id": "4a084e09-cc78-4d0c-92f9-1858647b332e",
   "metadata": {},
   "outputs": [],
   "source": [
    "dev = qml.device(\"default.qubit\", wires=2)\n",
    "\n",
    "@qml.qnode(dev)\n",
    "def find_the_largest_number(x, y):\n",
    "    qml.RY(x, wires=0)\n",
    "    qml.RY(y, wires=1)\n",
    "    qml.CNOT(wires=[0, 1])\n",
    "    qml.RY(x, wires=0)\n",
    "    qml.RY(-y, wires=1)\n",
    "    return qml.expval(qml.PauliZ(0))\n",
    "\n",
    "def get_largest_number(number_1, number_2):\n",
    "    res_1 = find_the_largest_number(number_1, number_2)\n",
    "    res_2 = find_the_largest_number(number_2, number_1)\n",
    "    if res_1 > res_2:\n",
    "        return number_1\n",
    "    else:\n",
    "        return number_2\n",
    "    \n",
    "    \n",
    "    \n",
    "def get_largest_number_in_case_of_negatives(a, b):  \n",
    "    if a == b:\n",
    "        return a\n",
    "    if a < 0 and b < 0:\n",
    "        # If both numbers are negative, we can switch their sign and solve the problem for positive numbers\n",
    "        a = -a\n",
    "        b = -b\n",
    "        if a < b:\n",
    "            return b\n",
    "        else:\n",
    "            return a\n",
    "    elif a < 0 and b == 0:\n",
    "        return b\n",
    "    elif b < 0 and a == 0:\n",
    "        return a\n",
    "    elif a < 0:\n",
    "        # If only the first number is negative, the second number is always greater\n",
    "        return b\n",
    "    elif b < 0:\n",
    "        # If only the second number is negative, the first number is always greater\n",
    "        return a\n",
    "    elif a == 0 and b > 0:\n",
    "        return b\n",
    "    elif b == 0 and a > 0:\n",
    "        return a\n",
    "\n",
    "\n"
   ]
  },
  {
   "cell_type": "code",
   "execution_count": 79,
   "id": "6958e0a7-b857-46c0-875f-b3f167edbb68",
   "metadata": {},
   "outputs": [
    {
     "name": "stdin",
     "output_type": "stream",
     "text": [
      "Please enter the 1st number to compare:  2\n",
      "Please enter the 2st number to compare:  3\n"
     ]
    },
    {
     "name": "stdout",
     "output_type": "stream",
     "text": [
      "The Largest Number is: 3 \n"
     ]
    }
   ],
   "source": [
    "number_1 = int(input(\"Please enter the 1st number to compare: \"))\n",
    "number_2 = int(input(\"Please enter the 2st number to compare: \"))\n",
    "\n",
    "if number_1 < 0 or number_2 < 0 or number_1 == 0 or number_2 == 0:\n",
    "    print(\"The Largest Number is: {}\".format(get_largest_number_in_case_of_negatives(number_1, number_2)))\n",
    "else:\n",
    "    print(\"The Largest Number is: {} \".format(get_largest_number(number_1, number_2)))"
   ]
  },
  {
   "cell_type": "markdown",
   "id": "fcb22e6c-d837-4cf7-9325-4701d4deef3b",
   "metadata": {},
   "source": [
    "# Drawing the Quantum Circuit"
   ]
  },
  {
   "cell_type": "code",
   "execution_count": 80,
   "id": "feacff45-fa90-4a25-ac52-0b7acc569457",
   "metadata": {},
   "outputs": [],
   "source": [
    "\n",
    "circuit = qml.QNode(find_the_largest_number\n",
    "                    , dev)\n",
    "\n"
   ]
  },
  {
   "cell_type": "code",
   "execution_count": 81,
   "id": "2b682aac-82df-43d6-89ac-21dbb7d468be",
   "metadata": {},
   "outputs": [
    {
     "name": "stdout",
     "output_type": "stream",
     "text": [
      "<QNode: wires=2, device='default.qubit.autograd', interface='autograd', diff_method='best'>\n"
     ]
    }
   ],
   "source": [
    "print(circuit)"
   ]
  },
  {
   "cell_type": "code",
   "execution_count": 82,
   "id": "0dc6968f-9f29-43b9-aa98-1b0f4c56d625",
   "metadata": {},
   "outputs": [
    {
     "data": {
      "image/png": "[encoded data removed]",
      "text/plain": [
       "<Figure size 600x300 with 1 Axes>"
      ]
     },
     "metadata": {},
     "output_type": "display_data"
    }
   ],
   "source": [
    "import matplotlib.pyplot as plt\n",
    "qml.drawer.use_style(\"black_white\")\n",
    "fig, ax = qml.draw_mpl(circuit)(np.pi/4, 0.7)\n",
    "plt.show()"
   ]
  },
  {
   "cell_type": "markdown",
   "id": "2854d638-841b-4b8e-a483-482479a6263f",
   "metadata": {},
   "source": [
    "# End "
   ]
  },
  {
   "cell_type": "code",
   "execution_count": null,
   "id": "2ccc5123-8ea8-4357-8b31-bc3906a2b78c",
   "metadata": {},
   "outputs": [],
   "source": []
  }
 ],
 "metadata": {
  "kernelspec": {
   "display_name": "PennyLane",
   "language": "python",
   "name": "pennylane"
  },
  "language_info": {
   "codemirror_mode": {
    "name": "ipython",
    "version": 3
   },
   "file_extension": ".py",
   "mimetype": "text/x-python",
   "name": "python",
   "nbconvert_exporter": "python",
   "pygments_lexer": "ipython3",
   "version": "3.9.15"
  }
 },
 "nbformat": 4,
 "nbformat_minor": 5
}
